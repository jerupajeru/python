{
  "nbformat": 4,
  "nbformat_minor": 0,
  "metadata": {
    "colab": {
      "provenance": []
    },
    "kernelspec": {
      "name": "python3",
      "display_name": "Python 3"
    },
    "language_info": {
      "name": "python"
    }
  },
  "cells": [
    {
      "cell_type": "code",
      "execution_count": 1,
      "metadata": {
        "colab": {
          "base_uri": "https://localhost:8080/"
        },
        "id": "vSinhv3mclQq",
        "outputId": "8fd387b4-3831-400b-cabf-52ac06c98023"
      },
      "outputs": [
        {
          "output_type": "stream",
          "name": "stdout",
          "text": [
            "Ahmed male 23\n",
            "Sara female 12\n"
          ]
        }
      ],
      "source": [
        "#Task 4\n",
        "class Students:\n",
        "    def __init__(self, name, gender, id):\n",
        "        self.name = name\n",
        "        self.gender = gender\n",
        "        self.id = id\n",
        "\n",
        "p1 = Students(\"Ahmed\", \"male\", 23)\n",
        "print(p1.name, p1.gender, p1.id)\n",
        "\n",
        "p2 = Students(\"Sara\", \"female\", 12)\n",
        "print(p2.name, p2.gender, p2.id)\n"
      ]
    },
    {
      "cell_type": "code",
      "source": [
        "#Task 2\n",
        "def function(roll_number, rollNumbers):\n",
        "    return roll_number in rollNumbers\n",
        "\n",
        "rollNumbers = [40851, 40852, 40853, 40854, 40855]\n",
        "check = 40852\n",
        "\n",
        "if function(check, rollNumbers):\n",
        "    print(f\"Student with roll number {check} is present.\")\n",
        "else:\n",
        "    print(f\"Student with roll number {check} is absent.\")\n"
      ],
      "metadata": {
        "colab": {
          "base_uri": "https://localhost:8080/"
        },
        "id": "YlMXdav3dDHy",
        "outputId": "8f2e4ffc-6cfb-49b3-bee6-36dee7f7b235"
      },
      "execution_count": 2,
      "outputs": [
        {
          "output_type": "stream",
          "name": "stdout",
          "text": [
            "Student with roll number 40852 is present.\n"
          ]
        }
      ]
    },
    {
      "cell_type": "code",
      "source": [
        "#Task 1\n",
        "List = [7, 5, 3, 0, 2]\n",
        "\n",
        "def Sumfunction(Input_List):\n",
        "    total = 0\n",
        "    for num in Input_List:\n",
        "        total += num\n",
        "    return total\n",
        "\n",
        "result = Sumfunction(List)\n",
        "print(\"The sum of the list is:\", result)\n"
      ],
      "metadata": {
        "colab": {
          "base_uri": "https://localhost:8080/"
        },
        "id": "C7v-BUujdUSR",
        "outputId": "c9c9f795-80c3-4c18-9cd3-9c0cf9984df6"
      },
      "execution_count": 3,
      "outputs": [
        {
          "output_type": "stream",
          "name": "stdout",
          "text": [
            "The sum of the list is: 17\n"
          ]
        }
      ]
    },
    {
      "cell_type": "code",
      "source": [
        "#Task 5\n",
        "class Student:\n",
        "    def __init__(self, name, age, grades):  # Corrected to __init__\n",
        "        self.name = name\n",
        "        self.age = age\n",
        "        self.grades = grades\n",
        "\n",
        "    def average(self):\n",
        "        if not self.grades:\n",
        "            return 0\n",
        "        return sum(self.grades) / len(self.grades)\n",
        "\n",
        "# Creating instances of Student\n",
        "s1 = Student(\"Maryam\", 22, [85, 90, 78, 92])\n",
        "s2 = Student(\"Shiza\", 20, [88, 76, 95])\n",
        "s3 = Student(\"Aliza\", 24, [70, 80, 90, 100])\n",
        "\n",
        "# Print the average grades\n",
        "print(f\"{s1.name}'s average grade: {s1.average()}\")\n",
        "print(f\"{s2.name}'s average grade: {s2.average()}\")\n",
        "print(f\"{s3.name}'s average grade: {s3.average()}\")\n"
      ],
      "metadata": {
        "colab": {
          "base_uri": "https://localhost:8080/"
        },
        "id": "qiFg0AgMdcTv",
        "outputId": "25216bc6-9631-45d4-d695-3e5dca1dd3d5"
      },
      "execution_count": 4,
      "outputs": [
        {
          "output_type": "stream",
          "name": "stdout",
          "text": [
            "Maryam's average grade: 86.25\n",
            "Shiza's average grade: 86.33333333333333\n",
            "Aliza's average grade: 85.0\n"
          ]
        }
      ]
    },
    {
      "cell_type": "code",
      "source": [
        "#Task 3\n",
        "class Student:\n",
        "    def __init__(self, name, id):\n",
        "        self.name = name\n",
        "        self.id = id\n",
        "\n",
        "student1 = Student(\"Alisha\", 11)\n",
        "\n",
        "print(f\"Name: {student1.name}\")\n",
        "print(f\"Id: {student1.id}\")\n",
        "\n",
        "student1.name = \"Ayesha\"\n",
        "student1.id = 12\n",
        "\n",
        "print(f\"Updated Name: {student1.name}\")\n",
        "print(f\"Updated Id: {student1.id}\")"
      ],
      "metadata": {
        "colab": {
          "base_uri": "https://localhost:8080/"
        },
        "id": "Z5DFmMWreMt7",
        "outputId": "aae810cc-f55d-4fa5-a606-ae394da3d07a"
      },
      "execution_count": 5,
      "outputs": [
        {
          "output_type": "stream",
          "name": "stdout",
          "text": [
            "Name: Alisha\n",
            "Id: 11\n",
            "Updated Name: Ayesha\n",
            "Updated Id: 12\n"
          ]
        }
      ]
    }
  ]
}