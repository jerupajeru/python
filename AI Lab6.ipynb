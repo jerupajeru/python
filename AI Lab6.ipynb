{
  "nbformat": 4,
  "nbformat_minor": 0,
  "metadata": {
    "colab": {
      "provenance": []
    },
    "kernelspec": {
      "name": "python3",
      "display_name": "Python 3"
    },
    "language_info": {
      "name": "python"
    }
  },
  "cells": [
    {
      "cell_type": "code",
      "execution_count": 1,
      "metadata": {
        "colab": {
          "base_uri": "https://localhost:8080/"
        },
        "id": "CP_lbEmuggcA",
        "outputId": "88329c3b-aac4-4346-b549-cf4ff5b8257e"
      },
      "outputs": [
        {
          "output_type": "stream",
          "name": "stdout",
          "text": [
            "Initial environment condition: {'A': 1, 'B': 0, 'C': 0, 'D': 1}\n",
            "Vacuum is randomly placed at location A\n",
            "Location A is Dirty\n",
            "Location A has been cleaned\n",
            "Moving to Location B...\n",
            "Location B is Clean\n",
            "Location B is already clean\n",
            "Moving to Location C...\n",
            "Location C is Clean\n",
            "Location C is already clean\n",
            "Moving to Location D...\n",
            "Location D is Dirty\n",
            "Location D has been cleaned\n",
            "Final environment condition: {'A': 0, 'B': 0, 'C': 0, 'D': 0}\n",
            "Performance measure: 2\n"
          ]
        }
      ],
      "source": [
        "#Lab 6\n",
        "import random\n",
        "\n",
        "class Environment:\n",
        "    def __init__(self):\n",
        "        self.locationCondition = {\n",
        "            'A': random.randint(0, 1),\n",
        "            'B': random.randint(0, 1),\n",
        "            'C': random.randint(0, 1),\n",
        "            'D': random.randint(0, 1)\n",
        "        }\n",
        "\n",
        "class SimpleReflexVacuumAgent:\n",
        "    def __init__(self, environment):\n",
        "        self.environment = environment\n",
        "        self.score = 0\n",
        "        self.vacuumLocation = random.randint(0, 3)\n",
        "\n",
        "        print(\"Initial environment condition:\", self.environment.locationCondition)\n",
        "\n",
        "        # Determine starting location based on random position\n",
        "        if self.vacuumLocation == 0:\n",
        "            print(\"Vacuum is randomly placed at location A\")\n",
        "            self.clean_location('A')\n",
        "            self.move_and_clean('B')\n",
        "            self.move_and_clean('C')\n",
        "            self.move_and_clean('D')\n",
        "\n",
        "        elif self.vacuumLocation == 1:\n",
        "            print(\"Vacuum is randomly placed at location B\")\n",
        "            self.clean_location('B')\n",
        "            self.move_and_clean('A')\n",
        "            self.move_and_clean('C')\n",
        "            self.move_and_clean('D')\n",
        "\n",
        "        elif self.vacuumLocation == 2:\n",
        "            print(\"Vacuum is randomly placed at location C\")\n",
        "            self.clean_location('C')\n",
        "            self.move_and_clean('A')\n",
        "            self.move_and_clean('B')\n",
        "            self.move_and_clean('D')\n",
        "\n",
        "        else:\n",
        "            print(\"Vacuum is randomly placed at location D\")\n",
        "            self.clean_location('D')\n",
        "            self.move_and_clean('A')\n",
        "            self.move_and_clean('B')\n",
        "            self.move_and_clean('C')\n",
        "\n",
        "        print(\"Final environment condition:\", self.environment.locationCondition)\n",
        "        print(\"Performance measure:\", self.score)\n",
        "\n",
        "    def clean_location(self, location):\n",
        "        print(f\"Location {location} is {'Dirty' if self.environment.locationCondition[location] == 1 else 'Clean'}\")\n",
        "        if self.environment.locationCondition[location] == 1:\n",
        "            self.environment.locationCondition[location] = 0\n",
        "            self.score += 1\n",
        "            print(f\"Location {location} has been cleaned\")\n",
        "        else:\n",
        "            print(f\"Location {location} is already clean\")\n",
        "\n",
        "    def move_and_clean(self, location):\n",
        "        print(f\"Moving to Location {location}...\")\n",
        "        self.clean_location(location)\n",
        "\n",
        "# Instantiate the environment and vacuum agent\n",
        "theEnvironment = Environment()\n",
        "theVacuum = SimpleReflexVacuumAgent(theEnvironment)\n"
      ]
    }
  ]
}