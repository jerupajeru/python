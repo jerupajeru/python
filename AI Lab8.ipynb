{
  "nbformat": 4,
  "nbformat_minor": 0,
  "metadata": {
    "colab": {
      "provenance": []
    },
    "kernelspec": {
      "name": "python3",
      "display_name": "Python 3"
    },
    "language_info": {
      "name": "python"
    }
  },
  "cells": [
    {
      "cell_type": "code",
      "execution_count": 1,
      "metadata": {
        "colab": {
          "base_uri": "https://localhost:8080/"
        },
        "id": "4R3rGqvKEDSh",
        "outputId": "65740039-6a71-4506-9a0f-18d56a77b6dc"
      },
      "outputs": [
        {
          "output_type": "stream",
          "name": "stdout",
          "text": [
            "['A', 'B', 'D']\n"
          ]
        }
      ],
      "source": [
        "#Task 1\n",
        "def find_shortest_path(graph, start, end, path=[]):\n",
        "    path = path + [start]\n",
        "\n",
        "    # If we reach the destination node, return the path\n",
        "    if start == end:\n",
        "        return path\n",
        "\n",
        "    # If the starting node has no neighbors\n",
        "    if start not in graph:\n",
        "        return None\n",
        "\n",
        "    shortest = None\n",
        "\n",
        "    # Explore neighbors\n",
        "    for neighbor in graph[start]:\n",
        "        if neighbor not in path:  # Avoid cycles\n",
        "            new_path = find_shortest_path(graph, neighbor, end, path)  # Recursive call\n",
        "\n",
        "            if new_path:  # If a path was found\n",
        "                if shortest is None or len(new_path) < len(shortest):\n",
        "                    shortest = new_path\n",
        "\n",
        "    return shortest\n",
        "\n",
        "# Example graph\n",
        "graph = {\n",
        "    'A': ['B', 'C'],\n",
        "    'B': ['D'],\n",
        "    'C': ['E'],\n",
        "    'D': ['C', 'E'],\n",
        "    'E': []\n",
        "}\n",
        "\n",
        "print(find_shortest_path(graph, 'A', 'D'))\n"
      ]
    },
    {
      "cell_type": "code",
      "source": [
        "#Task 2\n",
        "# Directed graph using an adjacency list\n",
        "directed_graph = {\n",
        "    'A': ['B', 'C'],\n",
        "    'B': ['D'],\n",
        "    'C': ['D'],\n",
        "    'D': [],\n",
        "    'E': ['F'],\n",
        "    'F': ['G'],\n",
        "    'G': []\n",
        "}\n",
        "\n",
        "# Function to find neighbors of a node\n",
        "def find_neighbors(graph, node):\n",
        "    return graph.get(node, [])\n",
        "\n",
        "# Function to check if an edge exists\n",
        "def edge_exists(graph, start, end):\n",
        "    return start in graph and end in graph[start]\n",
        "\n",
        "# Undirected graph using an adjacency list\n",
        "undirected_graph = {\n",
        "    'A': ['B', 'C'],\n",
        "    'B': ['A', 'D'],\n",
        "    'C': ['A'],\n",
        "    'D': ['B', 'E'],\n",
        "    'E': ['D', 'F'],\n",
        "    'F': ['E', 'G'],\n",
        "    'G': ['F']\n",
        "}\n",
        "\n",
        "# Weighted graph with adjacency list\n",
        "weighted_graph = {\n",
        "    'A': [('B', 2), ('C', 3)],\n",
        "    'B': [('D', 1)],\n",
        "    'C': [('D', 4)],\n",
        "    'D': [],\n",
        "    'E': [('F', 6)],\n",
        "    'F': [('G', 5)],\n",
        "    'G': []\n",
        "}\n",
        "\n",
        "# Function to find the shortest path in a weighted graph (using BFS)\n",
        "def find_shortest_path(graph, start, end):\n",
        "    queue = [[(start, 0)]]  # Initialize queue with the start node and its cost\n",
        "    visited = set()\n",
        "\n",
        "    while queue:\n",
        "        path = queue.pop(0)  # Get the first path from the queue\n",
        "        node, cost = path[-1]  # Get the last node in the path\n",
        "\n",
        "        if node in visited:\n",
        "            continue\n",
        "        visited.add(node)\n",
        "\n",
        "        for neighbor, weight in graph.get(node, []):\n",
        "            new_path = path + [(neighbor, cost + weight)]  # Append the neighbor and updated cost\n",
        "            queue.append(new_path)\n",
        "\n",
        "            if neighbor == end:\n",
        "                return [n for n, _ in new_path]  # Return only the nodes in the path\n",
        "\n",
        "    return None  # No path found\n",
        "\n",
        "# Testing the functions\n",
        "print(\"Neighbors of node 'A':\", find_neighbors(directed_graph, 'A'))  # Directed\n",
        "print(\"Neighbors of node 'D':\", find_neighbors(undirected_graph, 'D'))  # Undirected\n",
        "\n",
        "print(\"Edge exists from 'A' to 'B':\", edge_exists(directed_graph, 'A', 'B'))  # Directed\n",
        "print(\"Edge exists from 'B' to 'A':\", edge_exists(undirected_graph, 'B', 'A'))  # Undirected\n",
        "\n",
        "# Testing find_shortest_path\n",
        "shortest_path = find_shortest_path(weighted_graph, 'A', 'D')  # Find shortest path from 'A' to 'D'\n",
        "print(\"Shortest path from 'A' to 'D':\", shortest_path)\n"
      ],
      "metadata": {
        "colab": {
          "base_uri": "https://localhost:8080/"
        },
        "id": "ONaIcr5REVaw",
        "outputId": "d1dd8565-a5ab-4058-95a5-86f571b1a8c1"
      },
      "execution_count": 3,
      "outputs": [
        {
          "output_type": "stream",
          "name": "stdout",
          "text": [
            "Neighbors of node 'A': ['B', 'C']\n",
            "Neighbors of node 'D': ['B', 'E']\n",
            "Edge exists from 'A' to 'B': True\n",
            "Edge exists from 'B' to 'A': True\n",
            "Shortest path from 'A' to 'D': ['A', 'B', 'D']\n"
          ]
        }
      ]
    }
  ]
}