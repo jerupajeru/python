{
  "nbformat": 4,
  "nbformat_minor": 0,
  "metadata": {
    "colab": {
      "provenance": []
    },
    "kernelspec": {
      "name": "python3",
      "display_name": "Python 3"
    },
    "language_info": {
      "name": "python"
    }
  },
  "cells": [
    {
      "cell_type": "code",
      "execution_count": 2,
      "metadata": {
        "colab": {
          "base_uri": "https://localhost:8080/"
        },
        "id": "1ayEYg44W_t5",
        "outputId": "08d5ba74-7c79-4d12-e738-a8d37bdf97ad"
      },
      "outputs": [
        {
          "output_type": "stream",
          "name": "stdout",
          "text": [
            "My name is Alisha\n",
            "My age is 21\n",
            "My address is street 2, house no.74, Rawalpindi\n",
            "My phone number is 123\n",
            "My email is 123@gmail.com\n",
            "My CNIC is 37405\n"
          ]
        }
      ],
      "source": [
        "#Task 1\n",
        "name = 'Alisha'\n",
        "age = 21\n",
        "address = 'street 2, house no.74, Rawalpindi'\n",
        "phoneNo = '123'\n",
        "email = '123@gmail.com'\n",
        "cnic = '37405'\n",
        "\n",
        "print('My name is', name)\n",
        "print('My age is', age)\n",
        "print('My address is', address)\n",
        "print('My phone number is', phoneNo)\n",
        "print('My email is', email)\n",
        "print('My CNIC is', cnic)\n"
      ]
    },
    {
      "cell_type": "code",
      "source": [
        "#Task 2\n",
        "sap = int(input('Enter sap Id: '))\n",
        "Name = input('Enter name: ')\n",
        "print('Hey ' + Name + ', your sap id is ' + str(sap))\n"
      ],
      "metadata": {
        "colab": {
          "base_uri": "https://localhost:8080/"
        },
        "id": "XQLlL8e3YWgt",
        "outputId": "4ebd04b1-384f-4096-c083-a430b5a1fded"
      },
      "execution_count": 4,
      "outputs": [
        {
          "output_type": "stream",
          "name": "stdout",
          "text": [
            "Enter sap Id: 40851\n",
            "Enter name: alisha\n",
            "Hey alisha, your sap id is 40851\n"
          ]
        }
      ]
    },
    {
      "cell_type": "code",
      "source": [
        "#Task 3\n",
        "a = 2\n",
        "b = 3\n",
        "\n",
        "# Swapping the values\n",
        "swap = a\n",
        "a = b\n",
        "b = swap\n",
        "\n",
        "# Printing results\n",
        "print('a after swapping:', a)\n",
        "print('b after swapping:', b)\n",
        "\n"
      ],
      "metadata": {
        "id": "1C0yRbwhY67b"
      },
      "execution_count": null,
      "outputs": []
    },
    {
      "cell_type": "code",
      "source": [
        "#Task 4\n",
        "message='programming language'\n",
        "print(message.find('r'))\n",
        "print(message.find('e'))\n",
        "print(message.find('m'))\n",
        "print(message.find('g'))\n"
      ],
      "metadata": {
        "colab": {
          "base_uri": "https://localhost:8080/"
        },
        "id": "ShRlcAPBZVkf",
        "outputId": "14a7fb6e-58e8-4269-8054-2c34414ef07c"
      },
      "execution_count": 5,
      "outputs": [
        {
          "output_type": "stream",
          "name": "stdout",
          "text": [
            "1\n",
            "19\n",
            "6\n",
            "3\n"
          ]
        }
      ]
    },
    {
      "cell_type": "code",
      "source": [
        "#Task 5\n",
        "a=5\n",
        "b=8\n",
        "print(a<b)\n"
      ],
      "metadata": {
        "colab": {
          "base_uri": "https://localhost:8080/"
        },
        "id": "bqE-R27EZaeM",
        "outputId": "cf09cf15-6f57-4bd8-98cb-67fd442b282d"
      },
      "execution_count": 6,
      "outputs": [
        {
          "output_type": "stream",
          "name": "stdout",
          "text": [
            "True\n"
          ]
        }
      ]
    }
  ]
}