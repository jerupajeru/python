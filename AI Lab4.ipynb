{
  "nbformat": 4,
  "nbformat_minor": 0,
  "metadata": {
    "colab": {
      "provenance": []
    },
    "kernelspec": {
      "name": "python3",
      "display_name": "Python 3"
    },
    "language_info": {
      "name": "python"
    }
  },
  "cells": [
    {
      "cell_type": "code",
      "execution_count": 1,
      "metadata": {
        "colab": {
          "base_uri": "https://localhost:8080/"
        },
        "id": "fbXSRr1sfBPL",
        "outputId": "2473070e-4684-47e2-8799-b4ad10481b11"
      },
      "outputs": [
        {
          "output_type": "stream",
          "name": "stdout",
          "text": [
            "[[ True  True  True]\n",
            " [ True  True  True]]\n"
          ]
        }
      ],
      "source": [
        "#Task 1\n",
        "import numpy as np\n",
        "\n",
        "b = np.array([[2.3, 5.0, 6.0], [2.5, 6.5, 7.8]])\n",
        "ArrayForBool = b.astype(dtype=bool)\n",
        "print(ArrayForBool)"
      ]
    },
    {
      "cell_type": "code",
      "source": [
        "#Task 2\n",
        "import numpy as np\n",
        "\n",
        "c = np.array([1, 2, 3, 4, 5])\n",
        "\n",
        "print(\"original array\", c)\n",
        "\n",
        "c = np.insert(c, 2, 55)\n",
        "\n",
        "print(\"After insertion in original array we get\", c)"
      ],
      "metadata": {
        "colab": {
          "base_uri": "https://localhost:8080/"
        },
        "id": "glz80rSAfJPc",
        "outputId": "8d33120b-129c-4feb-96c1-47f2a29426bb"
      },
      "execution_count": 2,
      "outputs": [
        {
          "output_type": "stream",
          "name": "stdout",
          "text": [
            "original array [1 2 3 4 5]\n",
            "After insertion in original array we get [ 1  2 55  3  4  5]\n"
          ]
        }
      ]
    },
    {
      "cell_type": "code",
      "source": [
        "#Task 3\n",
        "import numpy as np\n",
        "\n",
        "d = np.arange(0, 101, 2)\n",
        "\n",
        "print(d)"
      ],
      "metadata": {
        "colab": {
          "base_uri": "https://localhost:8080/"
        },
        "id": "tGDoVMrwfUgg",
        "outputId": "78f12797-53f7-443d-83cf-044196bd8d56"
      },
      "execution_count": 3,
      "outputs": [
        {
          "output_type": "stream",
          "name": "stdout",
          "text": [
            "[  0   2   4   6   8  10  12  14  16  18  20  22  24  26  28  30  32  34\n",
            "  36  38  40  42  44  46  48  50  52  54  56  58  60  62  64  66  68  70\n",
            "  72  74  76  78  80  82  84  86  88  90  92  94  96  98 100]\n"
          ]
        }
      ]
    },
    {
      "cell_type": "code",
      "source": [
        "#Task 4\n",
        "import numpy as np\n",
        "\n",
        "matrix1 = np.array([[2, 3], [5, 6]])\n",
        "matrix2 = np.array([[4, 5], [7, 8]])\n",
        "\n",
        "Result = np.dot(matrix1, matrix2)\n",
        "\n",
        "print(Result)"
      ],
      "metadata": {
        "colab": {
          "base_uri": "https://localhost:8080/"
        },
        "id": "rDE_32KefkKp",
        "outputId": "0a6150cd-8f05-4726-f136-4b42564b15c5"
      },
      "execution_count": 4,
      "outputs": [
        {
          "output_type": "stream",
          "name": "stdout",
          "text": [
            "[[29 34]\n",
            " [62 73]]\n"
          ]
        }
      ]
    },
    {
      "cell_type": "code",
      "source": [
        "#Task 5\n",
        "import numpy as np\n",
        "\n",
        "a = np.array([[1, 2, 3, 4, 5]])\n",
        "\n",
        "num = 4\n",
        "\n",
        "if num in a:\n",
        "    print(\"num is present\")\n",
        "else:\n",
        "    print(\"number not present\")"
      ],
      "metadata": {
        "colab": {
          "base_uri": "https://localhost:8080/"
        },
        "id": "BMrAOsWsfsFX",
        "outputId": "af24d317-22fe-4237-cd32-0dcb6a71b8cf"
      },
      "execution_count": 5,
      "outputs": [
        {
          "output_type": "stream",
          "name": "stdout",
          "text": [
            "num is present\n"
          ]
        }
      ]
    }
  ]
}